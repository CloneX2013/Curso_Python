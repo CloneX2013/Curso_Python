{
  "nbformat": 4,
  "nbformat_minor": 0,
  "metadata": {
    "colab": {
      "provenance": [],
      "authorship_tag": "ABX9TyMFY8OWZCpPfl9uXDhiBprS",
      "include_colab_link": true
    },
    "kernelspec": {
      "name": "python3",
      "display_name": "Python 3"
    },
    "language_info": {
      "name": "python"
    }
  },
  "cells": [
    {
      "cell_type": "markdown",
      "metadata": {
        "id": "view-in-github",
        "colab_type": "text"
      },
      "source": [
        "<a href=\"https://colab.research.google.com/github/CloneX2013/Curso_Python/blob/main/Automa%C3%A7%C3%A3o_de_Whatsapp.ipynb\" target=\"_parent\"><img src=\"https://colab.research.google.com/assets/colab-badge.svg\" alt=\"Open In Colab\"/></a>"
      ]
    },
    {
      "cell_type": "code",
      "execution_count": 1,
      "metadata": {
        "colab": {
          "base_uri": "https://localhost:8080/"
        },
        "id": "jMLxgz7qhx3V",
        "outputId": "93815767-b390-407a-9051-b71eebfd9cd1"
      },
      "outputs": [
        {
          "output_type": "stream",
          "name": "stdout",
          "text": [
            "Collecting selenium\n",
            "  Downloading selenium-4.11.2-py3-none-any.whl (7.2 MB)\n",
            "\u001b[2K     \u001b[90m━━━━━━━━━━━━━━━━━━━━━━━━━━━━━━━━━━━━━━━━\u001b[0m \u001b[32m7.2/7.2 MB\u001b[0m \u001b[31m27.6 MB/s\u001b[0m eta \u001b[36m0:00:00\u001b[0m\n",
            "\u001b[?25hCollecting pyperclip\n",
            "  Downloading pyperclip-1.8.2.tar.gz (20 kB)\n",
            "  Preparing metadata (setup.py) ... \u001b[?25l\u001b[?25hdone\n",
            "Collecting webdriver-manager\n",
            "  Downloading webdriver_manager-4.0.0-py2.py3-none-any.whl (27 kB)\n",
            "Requirement already satisfied: urllib3[socks]<3,>=1.26 in /usr/local/lib/python3.10/dist-packages (from selenium) (2.0.4)\n",
            "Collecting trio~=0.17 (from selenium)\n",
            "  Downloading trio-0.22.2-py3-none-any.whl (400 kB)\n",
            "\u001b[2K     \u001b[90m━━━━━━━━━━━━━━━━━━━━━━━━━━━━━━━━━━━━━━\u001b[0m \u001b[32m400.2/400.2 kB\u001b[0m \u001b[31m34.3 MB/s\u001b[0m eta \u001b[36m0:00:00\u001b[0m\n",
            "\u001b[?25hCollecting trio-websocket~=0.9 (from selenium)\n",
            "  Downloading trio_websocket-0.10.3-py3-none-any.whl (17 kB)\n",
            "Requirement already satisfied: certifi>=2021.10.8 in /usr/local/lib/python3.10/dist-packages (from selenium) (2023.7.22)\n",
            "Requirement already satisfied: requests in /usr/local/lib/python3.10/dist-packages (from webdriver-manager) (2.31.0)\n",
            "Collecting python-dotenv (from webdriver-manager)\n",
            "  Downloading python_dotenv-1.0.0-py3-none-any.whl (19 kB)\n",
            "Requirement already satisfied: packaging in /usr/local/lib/python3.10/dist-packages (from webdriver-manager) (23.1)\n",
            "Requirement already satisfied: attrs>=20.1.0 in /usr/local/lib/python3.10/dist-packages (from trio~=0.17->selenium) (23.1.0)\n",
            "Requirement already satisfied: sortedcontainers in /usr/local/lib/python3.10/dist-packages (from trio~=0.17->selenium) (2.4.0)\n",
            "Requirement already satisfied: idna in /usr/local/lib/python3.10/dist-packages (from trio~=0.17->selenium) (3.4)\n",
            "Collecting outcome (from trio~=0.17->selenium)\n",
            "  Downloading outcome-1.2.0-py2.py3-none-any.whl (9.7 kB)\n",
            "Requirement already satisfied: sniffio in /usr/local/lib/python3.10/dist-packages (from trio~=0.17->selenium) (1.3.0)\n",
            "Requirement already satisfied: exceptiongroup>=1.0.0rc9 in /usr/local/lib/python3.10/dist-packages (from trio~=0.17->selenium) (1.1.3)\n",
            "Collecting wsproto>=0.14 (from trio-websocket~=0.9->selenium)\n",
            "  Downloading wsproto-1.2.0-py3-none-any.whl (24 kB)\n",
            "Requirement already satisfied: pysocks!=1.5.7,<2.0,>=1.5.6 in /usr/local/lib/python3.10/dist-packages (from urllib3[socks]<3,>=1.26->selenium) (1.7.1)\n",
            "Requirement already satisfied: charset-normalizer<4,>=2 in /usr/local/lib/python3.10/dist-packages (from requests->webdriver-manager) (3.2.0)\n",
            "Collecting h11<1,>=0.9.0 (from wsproto>=0.14->trio-websocket~=0.9->selenium)\n",
            "  Downloading h11-0.14.0-py3-none-any.whl (58 kB)\n",
            "\u001b[2K     \u001b[90m━━━━━━━━━━━━━━━━━━━━━━━━━━━━━━━━━━━━━━━━\u001b[0m \u001b[32m58.3/58.3 kB\u001b[0m \u001b[31m6.8 MB/s\u001b[0m eta \u001b[36m0:00:00\u001b[0m\n",
            "\u001b[?25hBuilding wheels for collected packages: pyperclip\n",
            "  Building wheel for pyperclip (setup.py) ... \u001b[?25l\u001b[?25hdone\n",
            "  Created wheel for pyperclip: filename=pyperclip-1.8.2-py3-none-any.whl size=11125 sha256=b33851ebde9b4ba0809a0aa6fedbbf73dbdc63257b74799b45b90358455908cb\n",
            "  Stored in directory: /root/.cache/pip/wheels/04/24/fe/140a94a7f1036003ede94579e6b4227fe96c840c6f4dcbe307\n",
            "Successfully built pyperclip\n",
            "Installing collected packages: pyperclip, python-dotenv, outcome, h11, wsproto, webdriver-manager, trio, trio-websocket, selenium\n",
            "Successfully installed h11-0.14.0 outcome-1.2.0 pyperclip-1.8.2 python-dotenv-1.0.0 selenium-4.11.2 trio-0.22.2 trio-websocket-0.10.3 webdriver-manager-4.0.0 wsproto-1.2.0\n"
          ]
        }
      ],
      "source": [
        "!pip install selenium pyperclip webdriver-manager\n",
        "\n"
      ]
    },
    {
      "cell_type": "code",
      "source": [
        "from selenium import webdriver\n",
        "from selenium.webdriver.chrome.service import Service\n",
        "from webdriver_manager.chrome import ChromeDriverManager\n",
        "from selenium.webdriver.common.keys import Keys\n",
        "import pyperclip\n",
        "import time\n",
        "import ActionChains\n",
        "\n",
        "service = Service(ChromeDriveManager().install())\n",
        "nav = webdriver.Chrome(service=service)\n",
        "nav.get(\"https://web.whatsapp.com\")"
      ],
      "metadata": {
        "id": "3MIsKMqViKrD"
      },
      "execution_count": null,
      "outputs": []
    },
    {
      "cell_type": "code",
      "source": [
        "mensagem = \"\"\" Teste! Automação do WPP. \"\"\"\n",
        "\n",
        "lista_contatos = [\"Meu Numero\", \"Contato 2\", \"Contato 3\", \"Contato 4\", \"Contato 5\"]\n",
        "\n",
        "nav.find_element('xpath', '//*[@id=\"side\"]/div[1]/div/div/button/div[2]/span').click()\n",
        "nav.find_element('xpath', '//*[@id=\"side\"]/div[1]/div/div/div[2]/div/div[1]/p').send_keys(\"Meu Numero\")\n",
        "nav.find_element('xpath', '//*[@id=\"side\"]/div[1]/div/div/div[2]/div/div[1]/p').send_keys(Keys.ENTER)\n",
        "time.sleep(2)\n",
        "\n",
        "pyperclip.copy(mensagem)\n",
        "nav.find_element('xpath', '//*[@id=\"main\"]/footer/div[1]/div/span[2]/div/div[2]/div[1]/div/div[1]/p').send_keys(Keys.CONTROL + \"v\")\n",
        "nav.find_element('xpath', '//*[@id=\"main\"]/footer/div[1]/div/span[2]/div/div[2]/div[1]/div/div[1]/p').send_keys(Keys.ENTER)\n",
        "time.sleep(1)\n"
      ],
      "metadata": {
        "id": "w04UBH8FjXcQ"
      },
      "execution_count": null,
      "outputs": []
    },
    {
      "cell_type": "code",
      "source": [
        "from selenium.webdriver.comon.action_chains import ActionChains\n",
        "\n",
        "lista_elementos = nav.find_elements('class name', '_2AOIt')\n",
        "for item in lista_elementos:\n",
        "  mensagem = mensagem.replace(\"\\n\", \"\")\n",
        "  texto = item.text.replace(\"\\n\", \"\")\n",
        "  if mensagem in texto:\n",
        "    elemento = item\n",
        "    break\n",
        "\n",
        "ActionChains(nav).move_to_elements(elemento).perform()\n",
        "elemento.find_element('class name', '_3u9t-').click()\n",
        "time.sleep(0.5)\n",
        "nav.find_element('xpath', '//*[@id=\"app\"]/div/span[4]/div/ul/div/li[4]/div').click()\n",
        "nav.find_element('xpath', '//*[@id=\"main\"]span[2]/div/button[4]/span').click()\n",
        "time.sleep(1)\n",
        "\n",
        "nav.find_element('xpath', '//*[@id=\"app\"]/div/div/div/div/div/div/div/div[1]/div/div/div[1]/p').send_keys(\"Meu Numero\")\n",
        "nav.find_element('xpath', '//*[@id=\"app\"]/div/div/div/div/div/div/div/div[1]/div/div/div[1]/p').send_keys(Keys.ENTER)\n",
        "nav.find_element('xpath', '//*[@id=\"app\"]/div/div/div/div/div/div/div/div[1]/div/div/div[1]/p').send_keys(Keys.BACKSPACE)\n",
        "\n"
      ],
      "metadata": {
        "id": "BogLZwQvpnD4"
      },
      "execution_count": null,
      "outputs": []
    },
    {
      "cell_type": "code",
      "source": [
        "qtde_contatos = len(lista_contatos)\n",
        "if qtde_contatos % 5 == 0:\n",
        "    qtde_blocos = qtde_contatos / 5\n",
        "else:\n",
        "      qtde_blocos = int(qtde_contatos / 5) + 1\n",
        "\n",
        "for i in range(qtde_blocos):\n",
        "    i_inicial = i * 5\n",
        "    i_final = (i + i) * 5\n",
        "    lista_enviar = lista_contatos[i_inicial:i_final]\n",
        "for nome in lista_enviar:\n",
        "      nav.find_element('xpath', '//*[@id=\"app\"]/div/div/div/div/div/div/div/div[1]/div/div/div[1]/p').send_keys(\"Meu Numero\")\n",
        "      nav.find_element('xpath', '//*[@id=\"app\"]/div/div/div/div/div/div/div/div[1]/div/div/div[1]/p').send_keys(Keys.ENTER)\n",
        "      nav.find_element('xpath', '//*[@id=\"app\"]/div/div/div/div/div/div/div/div[1]/div/div/div[1]/p').send_keys(Keys.BACKSPACE)\n",
        "      nav.find_element('xpath', '//*[@id=\"app]/div/span[2]/div/div/div/div/div/div/span/div/div/div/span').click()\n",
        "      time.sleep(3)\n"
      ],
      "metadata": {
        "colab": {
          "base_uri": "https://localhost:8080/",
          "height": 245
        },
        "id": "JK61EWGJvzaL",
        "outputId": "986f805a-dbf6-40ad-ba6c-0cdc1cabaf6f"
      },
      "execution_count": 9,
      "outputs": [
        {
          "output_type": "error",
          "ename": "NameError",
          "evalue": "ignored",
          "traceback": [
            "\u001b[0;31m---------------------------------------------------------------------------\u001b[0m",
            "\u001b[0;31mNameError\u001b[0m                                 Traceback (most recent call last)",
            "\u001b[0;32m<ipython-input-9-14c40eca3625>\u001b[0m in \u001b[0;36m<cell line: 1>\u001b[0;34m()\u001b[0m\n\u001b[0;32m----> 1\u001b[0;31m \u001b[0mqtde_contatos\u001b[0m \u001b[0;34m=\u001b[0m \u001b[0mlen\u001b[0m\u001b[0;34m(\u001b[0m\u001b[0mlista_contatos\u001b[0m\u001b[0;34m)\u001b[0m\u001b[0;34m\u001b[0m\u001b[0;34m\u001b[0m\u001b[0m\n\u001b[0m\u001b[1;32m      2\u001b[0m \u001b[0;32mif\u001b[0m \u001b[0mqtde_contatos\u001b[0m \u001b[0;34m%\u001b[0m \u001b[0;36m5\u001b[0m \u001b[0;34m==\u001b[0m \u001b[0;36m0\u001b[0m\u001b[0;34m:\u001b[0m\u001b[0;34m\u001b[0m\u001b[0;34m\u001b[0m\u001b[0m\n\u001b[1;32m      3\u001b[0m     \u001b[0mqtde_blocos\u001b[0m \u001b[0;34m=\u001b[0m \u001b[0mqtde_contatos\u001b[0m \u001b[0;34m/\u001b[0m \u001b[0;36m5\u001b[0m\u001b[0;34m\u001b[0m\u001b[0;34m\u001b[0m\u001b[0m\n\u001b[1;32m      4\u001b[0m \u001b[0;32melse\u001b[0m\u001b[0;34m:\u001b[0m\u001b[0;34m\u001b[0m\u001b[0;34m\u001b[0m\u001b[0m\n\u001b[1;32m      5\u001b[0m       \u001b[0mqtde_blocos\u001b[0m \u001b[0;34m=\u001b[0m \u001b[0mint\u001b[0m\u001b[0;34m(\u001b[0m\u001b[0mqtde_contatos\u001b[0m \u001b[0;34m/\u001b[0m \u001b[0;36m5\u001b[0m\u001b[0;34m)\u001b[0m \u001b[0;34m+\u001b[0m \u001b[0;36m1\u001b[0m\u001b[0;34m\u001b[0m\u001b[0;34m\u001b[0m\u001b[0m\n",
            "\u001b[0;31mNameError\u001b[0m: name 'lista_contatos' is not defined"
          ]
        }
      ]
    }
  ]
}