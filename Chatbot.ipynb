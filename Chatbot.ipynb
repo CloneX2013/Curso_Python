{
  "nbformat": 4,
  "nbformat_minor": 0,
  "metadata": {
    "colab": {
      "provenance": [],
      "authorship_tag": "ABX9TyOJu6oafK3qltfgOai1/3+k",
      "include_colab_link": true
    },
    "kernelspec": {
      "name": "python3",
      "display_name": "Python 3"
    },
    "language_info": {
      "name": "python"
    }
  },
  "cells": [
    {
      "cell_type": "markdown",
      "metadata": {
        "id": "view-in-github",
        "colab_type": "text"
      },
      "source": [
        "<a href=\"https://colab.research.google.com/github/CloneX2013/Curso_Python/blob/main/Chatbot.ipynb\" target=\"_parent\"><img src=\"https://colab.research.google.com/assets/colab-badge.svg\" alt=\"Open In Colab\"/></a>"
      ]
    },
    {
      "cell_type": "code",
      "execution_count": null,
      "metadata": {
        "colab": {
          "base_uri": "https://localhost:8080/"
        },
        "id": "7c3XuvqbFXGj",
        "outputId": "c0e53b9f-ab2a-4c3a-b9f5-969ba06cb499"
      },
      "outputs": [
        {
          "output_type": "stream",
          "name": "stderr",
          "text": [
            "[nltk_data] Downloading package punkt to /root/nltk_data...\n",
            "[nltk_data]   Unzipping tokenizers/punkt.zip.\n"
          ]
        },
        {
          "output_type": "stream",
          "name": "stdout",
          "text": [
            "Olá! Bem-vindo ao Chatbot. Digite 'sair' para encerrar a conversa.\n",
            ">Olá\n",
            "Olá! Como posso te ajudar hoje?\n",
            ">o que pode fazer?\n",
            "None\n",
            ">qual é seu nome?\n",
            "None\n",
            ">oi\n",
            "Olá! Como posso te ajudar hoje?\n",
            ">olá\n",
            "Olá! Como posso te ajudar hoje?\n",
            ">qual é o seu nome\n",
            "Eu sou um chatbot. Você pode me chamar de Chatbot.\n",
            ">Quem criou você?\n",
            "Fui criado por um time de desenvolvedores.\n"
          ]
        }
      ],
      "source": [
        "import nltk\n",
        "from nltk.chat.util import Chat, reflections\n",
        "\n",
        "pairs = [\n",
        "    [\n",
        "        r\"oi|olá|hey|olá\",\n",
        "        [\"Olá! Como posso te ajudar hoje?\",]\n",
        "    ],\n",
        "    [\n",
        "        r\"qual é o seu nome?\",\n",
        "        [\"Eu sou um chatbot. Você pode me chamar de Chatbot.\",]\n",
        "    ],\n",
        "    [\n",
        "        r\"quem criou você?\",\n",
        "        [\"Fui criado por um time de desenvolvedores.\",]\n",
        "    ],\n",
        "    [\n",
        "        r\"(.*)(comprar|produto)(.*)\",\n",
        "        [\"Nós temos uma excelente seleção de produtos. O que você está procurando especificamente?\",]\n",
        "    ],\n",
        "    [\n",
        "        r\"sair|tchau|até logo\",\n",
        "        [\"Até logo! Espero ter sido útil. Volte sempre!\",]\n",
        "    ],\n",
        "]\n",
        "\n",
        "def chatbot():\n",
        "    print(\"Olá! Bem-vindo ao Chatbot. Digite 'sair' para encerrar a conversa.\")\n",
        "    chat = Chat(pairs, reflections)\n",
        "    chat.converse()\n",
        "\n",
        "if __name__ == \"__main__\":\n",
        "    nltk.download('punkt')\n",
        "    chatbot()"
      ]
    }
  ]
}